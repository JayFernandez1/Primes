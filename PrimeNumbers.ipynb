{
  "nbformat": 4,
  "nbformat_minor": 0,
  "metadata": {
    "colab": {
      "provenance": []
    },
    "kernelspec": {
      "name": "python3",
      "display_name": "Python 3"
    },
    "language_info": {
      "name": "python"
    }
  },
  "cells": [
    {
      "cell_type": "code",
      "source": [
        "import random\n",
        "import numpy as np\n",
        "import time\n",
        "import pandas as pd\n",
        "import matplotlib.pyplot as plt\n",
        "from sortedcontainers import SortedSet"
      ],
      "metadata": {
        "id": "RhALAWsDqYn5"
      },
      "execution_count": null,
      "outputs": []
    },
    {
      "cell_type": "code",
      "source": [
        "def get_key(dictionary, value):\n",
        "    for key, val in dictionary.items():\n",
        "        if val == value:\n",
        "            return key"
      ],
      "metadata": {
        "id": "xhtBUBv-MbAi"
      },
      "execution_count": null,
      "outputs": []
    },
    {
      "cell_type": "code",
      "source": [
        "def divisible_by_3(num):\n",
        "  indexable = str(num)\n",
        "  threeSum = sum([int(char) for char in indexable])\n",
        "  if threeSum % 3 == 0:\n",
        "    return True\n",
        "\n",
        "def divisible_by_7(num):\n",
        "  if num < 7 or (len(str(num)) == 1 and num != 7):\n",
        "    return False\n",
        "  if num % 7 == 0:\n",
        "    return True\n",
        "  indexable = str(num)\n",
        "  lastdig = int(indexable[-1])\n",
        "  everythingelse = int(indexable[:-1])\n",
        "  mod = everythingelse - 2*lastdig\n",
        "  if mod % 7 != 0:\n",
        "    return divisible_by_7(mod)\n",
        "  else:\n",
        "    return True\n",
        "\n"
      ],
      "metadata": {
        "id": "hBom888WftqR"
      },
      "execution_count": null,
      "outputs": []
    },
    {
      "cell_type": "code",
      "execution_count": null,
      "metadata": {
        "id": "ZMpLYtgdcmgB"
      },
      "outputs": [],
      "source": [
        "def divisible(num):\n",
        "  indexable = str(num)\n",
        "  factors = [1]\n",
        "  if num % 2 == 0:\n",
        "    factors.append(2)\n",
        "  if divisible_by_3(num):\n",
        "    factors.append(3)\n",
        "  if len(indexable) >= 2:\n",
        "    lastTwo = int(indexable[-2:])\n",
        "    if lastTwo % 4 == 0:\n",
        "      factors.append(4)\n",
        "  if indexable[-1] == '5' or indexable[-1] == '0':\n",
        "    factors.append(5)\n",
        "  if num % 3 == 0 and num % 2 == 0:\n",
        "    factors.append(6)\n",
        "  if divisible_by_7(num):\n",
        "    factors.append(7)\n",
        "  if len(indexable) >= 3:\n",
        "    if int(indexable[-3:]) % 8 == 0:\n",
        "      factors.append(8)\n",
        "  if num > 6 and divisible_by_3(num):\n",
        "    factors.append(9)\n",
        "  if indexable[-1] == '0':\n",
        "    factors.append(10)\n",
        "  return factors"
      ]
    },
    {
      "cell_type": "code",
      "source": [
        "def miller_rabin(n, time_sec = 6):\n",
        "    isPrime = False\n",
        "    N = n - 1\n",
        "    m = 0\n",
        "    k = 0\n",
        "    mIsWhole = (str(m)[-1] != '0')\n",
        "    while mIsWhole:\n",
        "        m = N / (2 ** k)\n",
        "        k += 1\n",
        "    k -= 2\n",
        "    m = int(N / (2 ** k))\n",
        "    a = random.randint(1, N)\n",
        "    b0 = pow(a, m, n)\n",
        "    print(b0)\n",
        "    if b0 == 1 or b0 == - 1:\n",
        "        isPrime = True\n",
        "    else:\n",
        "        g = b0\n",
        "        b1 = pow(g, 2, n)\n",
        "        one = (b1 == 1 or b1 == - 1)\n",
        "        if not one:\n",
        "            start_time = time.time()\n",
        "            end_time = start_time + time_sec\n",
        "            while time.time() < end_time and not one:\n",
        "                b1 = pow(b1, 2, n)\n",
        "                one = (b1 == 1 or b1 == - 1)\n",
        "        if b1 == 1:\n",
        "            isPrime = False\n",
        "        if b1 == - 1:\n",
        "            isPrime = True\n",
        "    return isPrime\n"
      ],
      "metadata": {
        "id": "exTJWGU4oKiJ"
      },
      "execution_count": null,
      "outputs": []
    },
    {
      "cell_type": "code",
      "source": [
        "def sieve(lim, n):\n",
        "  odds = set(np.arange(3, n + 1, 2).tolist())\n",
        "  copy = list(odds)\n",
        "  for num in list(odds):\n",
        "    for nextnum in list(odds):\n",
        "      if num == nextnum:\n",
        "        continue\n",
        "      if nextnum % num == 0:\n",
        "        copyidx = copy.index(nextnum)\n",
        "        copy.pop(copyidx)\n",
        "        odds.remove(nextnum)\n",
        "  copy2 = set(copy)\n",
        "  copy2.add(lim)\n",
        "  copy3 = [2] + list(SortedSet(copy2))\n",
        "  limIDX = copy3.index(lim)\n",
        "  return SortedSet(set(copy3[limIDX + 1:]))"
      ],
      "metadata": {
        "id": "IHqOaFYt_hSo"
      },
      "execution_count": null,
      "outputs": []
    },
    {
      "cell_type": "code",
      "source": [
        "import numpy as np\n",
        "from sortedcontainers import SortedSet\n",
        "\n",
        "def slieve(lim, n):\n",
        "    odds = set(np.arange(3, n + 1, 2))\n",
        "    sqrt_n = int(np.sqrt(n)) + 1\n",
        "\n",
        "    for num in range(3, sqrt_n, 2):\n",
        "        if num in odds:\n",
        "            odds.difference_update(range(num * num, n + 1, num))\n",
        "\n",
        "    copy2 = SortedSet(odds)\n",
        "    copy2.add(lim)\n",
        "    copy3 = SortedSet([2])\n",
        "    copy3.update(copy2)\n",
        "    limIDX = copy3.index(lim)\n",
        "\n",
        "    return SortedSet(copy3[limIDX + 1:])\n"
      ],
      "metadata": {
        "id": "nKBmiRu3mC_0"
      },
      "execution_count": null,
      "outputs": []
    },
    {
      "cell_type": "code",
      "source": [
        "def twin_primes(lim, n):\n",
        "  lit = list(slieve(lim, n))\n",
        "  gapdict = {lit[0]: 0}\n",
        "  #twinPrimes = set()\n",
        "  twins = []\n",
        "  for i in range(1, len(lit)):\n",
        "    gapdict[lit[i]] = lit[i] - lit[i-1]\n",
        "  for key in gapdict:\n",
        "    currIDX = lit.index(key)\n",
        "    previousIDX = currIDX - 1\n",
        "    twin = [0]*2\n",
        "    if gapdict[key] == 2:\n",
        "      #twinPrimes.add(key)\n",
        "      #twinPrimes.add(key - 2)\n",
        "      twin[0] = key - 2\n",
        "      twin[1] = key\n",
        "      twins.append(twin)\n",
        "  #return SortedSet(twinPrimes)\n",
        "  return set(map(tuple, sorted(twins)))\n",
        "\n",
        "def maxPrimeGap(lim, n):\n",
        "  lit = list(sieve(lim, n))\n",
        "  gapdict = {lit[0]: 0}\n",
        "  #twinPrimes = set()\n",
        "  twins = []\n",
        "  for i in range(1, len(lit)):\n",
        "    gapdict[lit[i]] = lit[i] - lit[i-1]\n",
        "  valList = list(gapdict.values())\n",
        "  keyList = list(gapdict.keys())\n",
        "  maxGap = max(valList)\n",
        "  maxGapIDX = valList.index(maxGap)\n",
        "  secPrime = keyList[maxGapIDX]\n",
        "  firstPrime = secPrime - maxGap\n",
        "  return firstPrime, secPrime, maxGap\n",
        "\n"
      ],
      "metadata": {
        "id": "7ifzT8LaCPIv"
      },
      "execution_count": null,
      "outputs": []
    },
    {
      "cell_type": "code",
      "source": [
        "maxPrimeGap(2, 10000)"
      ],
      "metadata": {
        "colab": {
          "base_uri": "https://localhost:8080/"
        },
        "id": "4btttiGeNUO5",
        "outputId": "991713d5-803e-4920-a10e-fe9b0e86c8c1"
      },
      "execution_count": null,
      "outputs": [
        {
          "output_type": "execute_result",
          "data": {
            "text/plain": [
              "(9551, 9587, 36)"
            ]
          },
          "metadata": {},
          "execution_count": 88
        }
      ]
    },
    {
      "cell_type": "code",
      "source": [
        "twin_primes(3001, 5001)"
      ],
      "metadata": {
        "colab": {
          "base_uri": "https://localhost:8080/"
        },
        "id": "BtevpNdVnSeO",
        "outputId": "d908ad98-8b6a-4143-e1d4-78e037ca1d23"
      },
      "execution_count": null,
      "outputs": [
        {
          "output_type": "execute_result",
          "data": {
            "text/plain": [
              "{(3119, 3121),\n",
              " (3167, 3169),\n",
              " (3251, 3253),\n",
              " (3257, 3259),\n",
              " (3299, 3301),\n",
              " (3329, 3331),\n",
              " (3359, 3361),\n",
              " (3371, 3373),\n",
              " (3389, 3391),\n",
              " (3461, 3463),\n",
              " (3467, 3469),\n",
              " (3527, 3529),\n",
              " (3539, 3541),\n",
              " (3557, 3559),\n",
              " (3581, 3583),\n",
              " (3671, 3673),\n",
              " (3767, 3769),\n",
              " (3821, 3823),\n",
              " (3851, 3853),\n",
              " (3917, 3919),\n",
              " (3929, 3931),\n",
              " (4001, 4003),\n",
              " (4019, 4021),\n",
              " (4049, 4051),\n",
              " (4091, 4093),\n",
              " (4127, 4129),\n",
              " (4157, 4159),\n",
              " (4217, 4219),\n",
              " (4229, 4231),\n",
              " (4241, 4243),\n",
              " (4259, 4261),\n",
              " (4271, 4273),\n",
              " (4337, 4339),\n",
              " (4421, 4423),\n",
              " (4481, 4483),\n",
              " (4517, 4519),\n",
              " (4547, 4549),\n",
              " (4637, 4639),\n",
              " (4649, 4651),\n",
              " (4721, 4723),\n",
              " (4787, 4789),\n",
              " (4799, 4801),\n",
              " (4931, 4933),\n",
              " (4967, 4969)}"
            ]
          },
          "metadata": {},
          "execution_count": 89
        }
      ]
    },
    {
      "cell_type": "code",
      "source": [
        "def primesLT(num):\n",
        "  primes = list(sieve(2,num))\n",
        "  if num in primes:\n",
        "    return len(primes) - 1\n",
        "  return len(primes)\n",
        "\n",
        "def twinPrimesLT(num):\n",
        "  twinPrimes = list(twin_primes(2, num))\n",
        "  if num in twinPrimes:\n",
        "    return len(twinPrimes) - 1\n",
        "  return len(twinPrimes)\n"
      ],
      "metadata": {
        "id": "57-rrS3Ww4qT"
      },
      "execution_count": null,
      "outputs": []
    },
    {
      "cell_type": "code",
      "source": [
        "twinPrimesLT(1001)"
      ],
      "metadata": {
        "colab": {
          "base_uri": "https://localhost:8080/"
        },
        "id": "RPMMPum0xHDI",
        "outputId": "223687a2-c6e6-40ea-f42d-a53f14b05415"
      },
      "execution_count": null,
      "outputs": [
        {
          "output_type": "execute_result",
          "data": {
            "text/plain": [
              "35"
            ]
          },
          "metadata": {},
          "execution_count": 91
        }
      ]
    },
    {
      "cell_type": "code",
      "source": [
        "def isPalindrome(num):\n",
        "\n",
        "  strung = str(num)\n",
        "  reversed = strung[::-1]\n",
        "  if strung == reversed:\n",
        "    return True\n",
        "  else:\n",
        "    return False\n",
        "\n",
        "def palindromePrimes(lim, num):\n",
        "  primes = list(slieve(lim ,num))\n",
        "  palPrimes = [primes[i] for i in range(len(primes)) if isPalindrome(primes[i]) and len(str(primes[i])) > 1]\n",
        "  return SortedSet(set(palPrimes))"
      ],
      "metadata": {
        "id": "za1qOHhsJBVy"
      },
      "execution_count": null,
      "outputs": []
    },
    {
      "cell_type": "code",
      "source": [
        "palindromePrimes(0, 10000)"
      ],
      "metadata": {
        "colab": {
          "base_uri": "https://localhost:8080/"
        },
        "id": "EYnQSTbFKs1u",
        "outputId": "5393786e-182e-4e83-c411-33ba400be2ec"
      },
      "execution_count": null,
      "outputs": [
        {
          "output_type": "execute_result",
          "data": {
            "text/plain": [
              "SortedSet([11, 101, 131, 151, 181, 191, 313, 353, 373, 383, 727, 757, 787, 797, 919, 929])"
            ]
          },
          "metadata": {},
          "execution_count": 93
        }
      ]
    },
    {
      "cell_type": "code",
      "source": [
        "def prime_spiral(lim, num):\n",
        "  x = slieve(lim, num)\n",
        "  fig = plt.figure()\n",
        "  ax = fig.add_subplot(111, projection='polar')\n",
        "  ax.scatter(x, x, s = 3.2)\n",
        "\n",
        "  ax.set_rticks([])\n",
        "  ax.set_title(\"Prime Spiral from \" + str(lim) + ' to ' + str(num))\n",
        "  ax.grid(True)\n",
        "  plt.show()\n"
      ],
      "metadata": {
        "id": "4R7ZIZQ3OFjz"
      },
      "execution_count": null,
      "outputs": []
    },
    {
      "cell_type": "code",
      "source": [
        "prime_spiral(90000, 100000)"
      ],
      "metadata": {
        "colab": {
          "base_uri": "https://localhost:8080/",
          "height": 481
        },
        "id": "ljZpUHSGnk7Y",
        "outputId": "9d750427-8624-4075-90ce-5301d5746305"
      },
      "execution_count": null,
      "outputs": [
        {
          "output_type": "display_data",
          "data": {
            "text/plain": [
              "<Figure size 640x480 with 1 Axes>"
            ],
            "image/png": "[encoded data removed]"
          },
          "metadata": {}
        }
      ]
    }
  ]
}